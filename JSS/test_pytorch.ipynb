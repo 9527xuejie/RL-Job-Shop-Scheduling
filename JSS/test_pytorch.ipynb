{
 "cells": [
  {
   "cell_type": "code",
   "execution_count": 1,
   "metadata": {},
   "outputs": [
    {
     "name": "stdout",
     "output_type": "stream",
     "text": [
      "GeForce RTX 2080 Ti\n",
      "Memory Usage:\n",
      "Reserved: 20971520 Bytes\n",
      "Allocated:    4000256 Bytes\n"
     ]
    }
   ],
   "source": [
    "import torch\n",
    "\n",
    "if torch.cuda.is_available():\n",
    "    dev = torch.device('cuda')\n",
    "    torch.ones(1000, 1000, device=dev)\n",
    "    print(torch.cuda.get_device_name(dev))\n",
    "    print('Memory Usage:')\n",
    "    print('Reserved:', torch.cuda.memory_reserved(dev), 'Bytes')\n",
    "    print('Allocated:   ', torch.cuda.max_memory_allocated(dev), 'Bytes')"
   ]
  },
  {
   "cell_type": "code",
   "execution_count": 2,
   "metadata": {},
   "outputs": [],
   "source": [
    "import torch.nn as nn\n",
    "import torch.nn.functional as F\n",
    "import torch.optim as optim\n",
    "from torchvision import datasets, transforms\n",
    "from torch.optim.lr_scheduler import StepLR"
   ]
  },
  {
   "cell_type": "markdown",
   "metadata": {},
   "source": [
    "A network from the pytorch MNIST example"
   ]
  },
  {
   "cell_type": "code",
   "execution_count": 3,
   "metadata": {},
   "outputs": [],
   "source": [
    "class Net(nn.Module):\n",
    "    def __init__(self):\n",
    "        super(Net, self).__init__()\n",
    "        self.conv1 = nn.Conv2d(1, 32, 3, 1)\n",
    "        self.conv2 = nn.Conv2d(32, 64, 3, 1)\n",
    "        self.dropout1 = nn.Dropout2d(0.25)\n",
    "        self.dropout2 = nn.Dropout2d(0.5)\n",
    "        self.fc1 = nn.Linear(9216, 128)\n",
    "        self.fc2 = nn.Linear(128, 10)\n",
    "\n",
    "    def forward(self, x):\n",
    "        x = self.conv1(x)\n",
    "        x = F.relu(x)\n",
    "        x = self.conv2(x)\n",
    "        x = F.relu(x)\n",
    "        x = F.max_pool2d(x, 2)\n",
    "        x = self.dropout1(x)\n",
    "        x = torch.flatten(x, 1)\n",
    "        x = self.fc1(x)\n",
    "        x = F.relu(x)\n",
    "        x = self.dropout2(x)\n",
    "        x = self.fc2(x)\n",
    "        output = F.log_softmax(x, dim=1)\n",
    "        return output\n",
    "\n",
    "\n",
    "def train(model, device, train_loader, optimizer, epoch):\n",
    "    model.train()\n",
    "    for batch_idx, (data, target) in enumerate(train_loader):\n",
    "        data, target = data.to(device), target.to(device)\n",
    "        optimizer.zero_grad()\n",
    "        output = model(data)\n",
    "        loss = F.nll_loss(output, target)\n",
    "        loss.backward()\n",
    "        optimizer.step()\n",
    "        if batch_idx % 100 == 0:\n",
    "            print('Train Epoch: {} [{}/{} ({:.0f}%)]\\tLoss: {:.6f}'.format(\n",
    "                epoch, batch_idx * len(data), len(train_loader.dataset),\n",
    "                100. * batch_idx / len(train_loader), loss.item()))\n",
    "\n",
    "\n",
    "def test(model, device, test_loader):\n",
    "    model.eval()\n",
    "    test_loss = 0\n",
    "    correct = 0\n",
    "    with torch.no_grad():\n",
    "        for data, target in test_loader:\n",
    "            data, target = data.to(device), target.to(device)\n",
    "            output = model(data)\n",
    "            test_loss += F.nll_loss(output, target, reduction='sum').item()  # sum up batch loss\n",
    "            pred = output.argmax(dim=1, keepdim=True)  # get the index of the max log-probability\n",
    "            correct += pred.eq(target.view_as(pred)).sum().item()\n",
    "\n",
    "    test_loss /= len(test_loader.dataset)\n",
    "\n",
    "    print('\\nTest set: Average loss: {:.4f}, Accuracy: {}/{} ({:.0f}%)\\n'.format(\n",
    "        test_loss, correct, len(test_loader.dataset),\n",
    "        100. * correct / len(test_loader.dataset)))"
   ]
  },
  {
   "cell_type": "code",
   "execution_count": 4,
   "metadata": {},
   "outputs": [
    {
     "name": "stdout",
     "output_type": "stream",
     "text": [
      "Downloading http://yann.lecun.com/exdb/mnist/train-images-idx3-ubyte.gz to ./kostya/data/MNIST/raw/train-images-idx3-ubyte.gz\n"
     ]
    },
    {
     "data": {
      "application/vnd.jupyter.widget-view+json": {
       "model_id": "6b2a0165769e45158f4a5924e2867da5",
       "version_major": 2,
       "version_minor": 0
      },
      "text/plain": [
       "HBox(children=(HTML(value=''), FloatProgress(value=1.0, bar_style='info', layout=Layout(width='20px'), max=1.0…"
      ]
     },
     "metadata": {},
     "output_type": "display_data"
    },
    {
     "name": "stdout",
     "output_type": "stream",
     "text": [
      "Extracting ./kostya/data/MNIST/raw/train-images-idx3-ubyte.gz to ./kostya/data/MNIST/raw\n",
      "Downloading http://yann.lecun.com/exdb/mnist/train-labels-idx1-ubyte.gz to ./kostya/data/MNIST/raw/train-labels-idx1-ubyte.gz\n"
     ]
    },
    {
     "data": {
      "application/vnd.jupyter.widget-view+json": {
       "model_id": "5b6d3da8f977497786c5599ba06de39e",
       "version_major": 2,
       "version_minor": 0
      },
      "text/plain": [
       "HBox(children=(HTML(value=''), FloatProgress(value=1.0, bar_style='info', layout=Layout(width='20px'), max=1.0…"
      ]
     },
     "metadata": {},
     "output_type": "display_data"
    },
    {
     "name": "stdout",
     "output_type": "stream",
     "text": [
      "Extracting ./kostya/data/MNIST/raw/train-labels-idx1-ubyte.gz to ./kostya/data/MNIST/raw\n",
      "Downloading http://yann.lecun.com/exdb/mnist/t10k-images-idx3-ubyte.gz to ./kostya/data/MNIST/raw/t10k-images-idx3-ubyte.gz\n"
     ]
    },
    {
     "data": {
      "application/vnd.jupyter.widget-view+json": {
       "model_id": "0fec21b0f3464cf9bf5d82c2593f49bc",
       "version_major": 2,
       "version_minor": 0
      },
      "text/plain": [
       "HBox(children=(HTML(value=''), FloatProgress(value=1.0, bar_style='info', layout=Layout(width='20px'), max=1.0…"
      ]
     },
     "metadata": {},
     "output_type": "display_data"
    },
    {
     "name": "stdout",
     "output_type": "stream",
     "text": [
      "Extracting ./kostya/data/MNIST/raw/t10k-images-idx3-ubyte.gz to ./kostya/data/MNIST/raw\n",
      "Downloading http://yann.lecun.com/exdb/mnist/t10k-labels-idx1-ubyte.gz to ./kostya/data/MNIST/raw/t10k-labels-idx1-ubyte.gz\n",
      "\n"
     ]
    },
    {
     "data": {
      "application/vnd.jupyter.widget-view+json": {
       "model_id": "b26b26ceae9b4222885e713515c3a842",
       "version_major": 2,
       "version_minor": 0
      },
      "text/plain": [
       "HBox(children=(HTML(value=''), FloatProgress(value=1.0, bar_style='info', layout=Layout(width='20px'), max=1.0…"
      ]
     },
     "metadata": {},
     "output_type": "display_data"
    },
    {
     "name": "stdout",
     "output_type": "stream",
     "text": [
      "Extracting ./kostya/data/MNIST/raw/t10k-labels-idx1-ubyte.gz to ./kostya/data/MNIST/raw\n",
      "Processing...\n",
      "Done!\n"
     ]
    },
    {
     "name": "stderr",
     "output_type": "stream",
     "text": [
      "/root/miniconda3/lib/python3.8/site-packages/torchvision/datasets/mnist.py:480: UserWarning: The given NumPy array is not writeable, and PyTorch does not support non-writeable tensors. This means you can write to the underlying (supposedly non-writeable) NumPy array using the tensor. You may want to copy the array to protect its data or make it writeable before converting it to a tensor. This type of warning will be suppressed for the rest of this program. (Triggered internally at  /opt/conda/conda-bld/pytorch_1603729061180/work/torch/csrc/utils/tensor_numpy.cpp:141.)\n",
      "  return torch.from_numpy(parsed.astype(m[2], copy=False)).view(*s)\n"
     ]
    },
    {
     "name": "stdout",
     "output_type": "stream",
     "text": [
      "\n",
      "\n",
      "\n",
      "\n",
      "\n",
      "\n",
      "Train Epoch: 1 [0/60000 (0%)]\tLoss: 2.286781\n",
      "Train Epoch: 1 [6400/60000 (11%)]\tLoss: 0.291153\n",
      "Train Epoch: 1 [12800/60000 (21%)]\tLoss: 0.103333\n",
      "Train Epoch: 1 [19200/60000 (32%)]\tLoss: 0.273409\n",
      "Train Epoch: 1 [25600/60000 (43%)]\tLoss: 0.163127\n",
      "Train Epoch: 1 [32000/60000 (53%)]\tLoss: 0.176175\n",
      "Train Epoch: 1 [38400/60000 (64%)]\tLoss: 0.034971\n",
      "Train Epoch: 1 [44800/60000 (75%)]\tLoss: 0.110043\n",
      "Train Epoch: 1 [51200/60000 (85%)]\tLoss: 0.075193\n",
      "Train Epoch: 1 [57600/60000 (96%)]\tLoss: 0.161666\n",
      "\n",
      "Test set: Average loss: 0.0484, Accuracy: 9835/10000 (98%)\n",
      "\n",
      "Train Epoch: 2 [0/60000 (0%)]\tLoss: 0.143285\n",
      "Train Epoch: 2 [6400/60000 (11%)]\tLoss: 0.087208\n",
      "Train Epoch: 2 [12800/60000 (21%)]\tLoss: 0.024423\n",
      "Train Epoch: 2 [19200/60000 (32%)]\tLoss: 0.116368\n",
      "Train Epoch: 2 [25600/60000 (43%)]\tLoss: 0.051084\n",
      "Train Epoch: 2 [32000/60000 (53%)]\tLoss: 0.284577\n",
      "Train Epoch: 2 [38400/60000 (64%)]\tLoss: 0.174889\n",
      "Train Epoch: 2 [44800/60000 (75%)]\tLoss: 0.103815\n",
      "Train Epoch: 2 [51200/60000 (85%)]\tLoss: 0.012290\n",
      "Train Epoch: 2 [57600/60000 (96%)]\tLoss: 0.058231\n",
      "\n",
      "Test set: Average loss: 0.0385, Accuracy: 9869/10000 (99%)\n",
      "\n",
      "Train Epoch: 3 [0/60000 (0%)]\tLoss: 0.041506\n",
      "Train Epoch: 3 [6400/60000 (11%)]\tLoss: 0.012014\n",
      "Train Epoch: 3 [12800/60000 (21%)]\tLoss: 0.053830\n",
      "Train Epoch: 3 [19200/60000 (32%)]\tLoss: 0.009651\n",
      "Train Epoch: 3 [25600/60000 (43%)]\tLoss: 0.015296\n",
      "Train Epoch: 3 [32000/60000 (53%)]\tLoss: 0.149705\n",
      "Train Epoch: 3 [38400/60000 (64%)]\tLoss: 0.013722\n",
      "Train Epoch: 3 [44800/60000 (75%)]\tLoss: 0.005186\n",
      "Train Epoch: 3 [51200/60000 (85%)]\tLoss: 0.034189\n",
      "Train Epoch: 3 [57600/60000 (96%)]\tLoss: 0.014154\n",
      "\n",
      "Test set: Average loss: 0.0343, Accuracy: 9883/10000 (99%)\n",
      "\n"
     ]
    }
   ],
   "source": [
    "kwargs = {'batch_size': 64, 'num_workers': 1, 'pin_memory': True, 'shuffle': True}\n",
    "\n",
    "transform=transforms.Compose([\n",
    "        transforms.ToTensor(),\n",
    "        transforms.Normalize((0.1307,), (0.3081,))\n",
    "        ])\n",
    "\n",
    "dataset1 = datasets.MNIST('./kostya/data', train=True, download=True,\n",
    "                   transform=transform)\n",
    "dataset2 = datasets.MNIST('./kostya/data', train=False,\n",
    "                   transform=transform)\n",
    "train_loader = torch.utils.data.DataLoader(dataset1,**kwargs)\n",
    "test_loader = torch.utils.data.DataLoader(dataset2, **kwargs)\n",
    "\n",
    "model = Net().to(dev)\n",
    "optimizer = optim.Adadelta(model.parameters(), lr=1)\n",
    "\n",
    "scheduler = StepLR(optimizer, step_size=1, gamma=0.7)\n",
    "for epoch in range(1, 4):\n",
    "    train(model, dev, train_loader, optimizer, epoch)\n",
    "    test(model, dev, test_loader)\n",
    "    scheduler.step()\n",
    "\n",
    "torch.cuda.empty_cache()"
   ]
  }
 ],
 "metadata": {
  "kernelspec": {
   "display_name": "Python 3",
   "language": "python",
   "name": "python3"
  },
  "language_info": {
   "codemirror_mode": {
    "name": "ipython",
    "version": 3
   },
   "file_extension": ".py",
   "mimetype": "text/x-python",
   "name": "python",
   "nbconvert_exporter": "python",
   "pygments_lexer": "ipython3",
   "version": "3.8.3"
  }
 },
 "nbformat": 4,
 "nbformat_minor": 4
}
