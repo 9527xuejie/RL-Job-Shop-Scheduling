{
 "cells": [
  {
   "cell_type": "code",
   "execution_count": 1,
   "metadata": {},
   "outputs": [
    {
     "name": "stdout",
     "output_type": "stream",
     "text": [
      "GeForce GTX TITAN X\n",
      "Memory Usage:\n",
      "Reserved: 20971520 Bytes\n",
      "Allocated:    4000256 Bytes\n"
     ]
    }
   ],
   "source": [
    "import torch\n",
    "\n",
    "if torch.cuda.is_available():\n",
    "    dev = torch.device('cuda')\n",
    "    torch.ones(1000, 1000, device=dev)\n",
    "    print(torch.cuda.get_device_name(dev))\n",
    "    print('Memory Usage:')\n",
    "    print('Reserved:', torch.cuda.memory_reserved(dev), 'Bytes')\n",
    "    print('Allocated:   ', torch.cuda.max_memory_allocated(dev), 'Bytes')"
   ]
  },
  {
   "cell_type": "code",
   "execution_count": 2,
   "metadata": {},
   "outputs": [
    {
     "ename": "ModuleNotFoundError",
     "evalue": "No module named 'torchvision'",
     "output_type": "error",
     "traceback": [
      "\u001b[0;31m\u001b[0m",
      "\u001b[0;31mModuleNotFoundError\u001b[0mTraceback (most recent call last)",
      "\u001b[0;32m<ipython-input-2-028d3ca74eb2>\u001b[0m in \u001b[0;36m<module>\u001b[0;34m\u001b[0m\n\u001b[1;32m      2\u001b[0m \u001b[0;32mimport\u001b[0m \u001b[0mtorch\u001b[0m\u001b[0;34m.\u001b[0m\u001b[0mnn\u001b[0m\u001b[0;34m.\u001b[0m\u001b[0mfunctional\u001b[0m \u001b[0;32mas\u001b[0m \u001b[0mF\u001b[0m\u001b[0;34m\u001b[0m\u001b[0;34m\u001b[0m\u001b[0m\n\u001b[1;32m      3\u001b[0m \u001b[0;32mimport\u001b[0m \u001b[0mtorch\u001b[0m\u001b[0;34m.\u001b[0m\u001b[0moptim\u001b[0m \u001b[0;32mas\u001b[0m \u001b[0moptim\u001b[0m\u001b[0;34m\u001b[0m\u001b[0;34m\u001b[0m\u001b[0m\n\u001b[0;32m----> 4\u001b[0;31m \u001b[0;32mfrom\u001b[0m \u001b[0mtorchvision\u001b[0m \u001b[0;32mimport\u001b[0m \u001b[0mdatasets\u001b[0m\u001b[0;34m,\u001b[0m \u001b[0mtransforms\u001b[0m\u001b[0;34m\u001b[0m\u001b[0;34m\u001b[0m\u001b[0m\n\u001b[0m\u001b[1;32m      5\u001b[0m \u001b[0;32mfrom\u001b[0m \u001b[0mtorch\u001b[0m\u001b[0;34m.\u001b[0m\u001b[0moptim\u001b[0m\u001b[0;34m.\u001b[0m\u001b[0mlr_scheduler\u001b[0m \u001b[0;32mimport\u001b[0m \u001b[0mStepLR\u001b[0m\u001b[0;34m\u001b[0m\u001b[0;34m\u001b[0m\u001b[0m\n",
      "\u001b[0;31mModuleNotFoundError\u001b[0m: No module named 'torchvision'"
     ]
    }
   ],
   "source": [
    "import torch.nn as nn\n",
    "import torch.nn.functional as F\n",
    "import torch.optim as optim\n",
    "from torchvision import datasets, transforms\n",
    "from torch.optim.lr_scheduler import StepLR"
   ]
  },
  {
   "cell_type": "markdown",
   "metadata": {},
   "source": [
    "A network from the pytorch MNIST example"
   ]
  },
  {
   "cell_type": "code",
   "execution_count": 3,
   "metadata": {},
   "outputs": [],
   "source": [
    "class Net(nn.Module):\n",
    "    def __init__(self):\n",
    "        super(Net, self).__init__()\n",
    "        self.conv1 = nn.Conv2d(1, 32, 3, 1)\n",
    "        self.conv2 = nn.Conv2d(32, 64, 3, 1)\n",
    "        self.dropout1 = nn.Dropout2d(0.25)\n",
    "        self.dropout2 = nn.Dropout2d(0.5)\n",
    "        self.fc1 = nn.Linear(9216, 128)\n",
    "        self.fc2 = nn.Linear(128, 10)\n",
    "\n",
    "    def forward(self, x):\n",
    "        x = self.conv1(x)\n",
    "        x = F.relu(x)\n",
    "        x = self.conv2(x)\n",
    "        x = F.relu(x)\n",
    "        x = F.max_pool2d(x, 2)\n",
    "        x = self.dropout1(x)\n",
    "        x = torch.flatten(x, 1)\n",
    "        x = self.fc1(x)\n",
    "        x = F.relu(x)\n",
    "        x = self.dropout2(x)\n",
    "        x = self.fc2(x)\n",
    "        output = F.log_softmax(x, dim=1)\n",
    "        return output\n",
    "\n",
    "\n",
    "def train(model, device, train_loader, optimizer, epoch):\n",
    "    model.train()\n",
    "    for batch_idx, (data, target) in enumerate(train_loader):\n",
    "        data, target = data.to(device), target.to(device)\n",
    "        optimizer.zero_grad()\n",
    "        output = model(data)\n",
    "        loss = F.nll_loss(output, target)\n",
    "        loss.backward()\n",
    "        optimizer.step()\n",
    "        if batch_idx % 100 == 0:\n",
    "            print('Train Epoch: {} [{}/{} ({:.0f}%)]\\tLoss: {:.6f}'.format(\n",
    "                epoch, batch_idx * len(data), len(train_loader.dataset),\n",
    "                100. * batch_idx / len(train_loader), loss.item()))\n",
    "\n",
    "\n",
    "def test(model, device, test_loader):\n",
    "    model.eval()\n",
    "    test_loss = 0\n",
    "    correct = 0\n",
    "    with torch.no_grad():\n",
    "        for data, target in test_loader:\n",
    "            data, target = data.to(device), target.to(device)\n",
    "            output = model(data)\n",
    "            test_loss += F.nll_loss(output, target, reduction='sum').item()  # sum up batch loss\n",
    "            pred = output.argmax(dim=1, keepdim=True)  # get the index of the max log-probability\n",
    "            correct += pred.eq(target.view_as(pred)).sum().item()\n",
    "\n",
    "    test_loss /= len(test_loader.dataset)\n",
    "\n",
    "    print('\\nTest set: Average loss: {:.4f}, Accuracy: {}/{} ({:.0f}%)\\n'.format(\n",
    "        test_loss, correct, len(test_loader.dataset),\n",
    "        100. * correct / len(test_loader.dataset)))"
   ]
  },
  {
   "cell_type": "code",
   "execution_count": 4,
   "metadata": {},
   "outputs": [
    {
     "name": "stdout",
     "output_type": "stream",
     "text": [
      "Train Epoch: 1 [0/60000 (0%)]\tLoss: 2.294636\n",
      "Train Epoch: 1 [6400/60000 (11%)]\tLoss: 0.215972\n",
      "Train Epoch: 1 [12800/60000 (21%)]\tLoss: 0.306771\n",
      "Train Epoch: 1 [19200/60000 (32%)]\tLoss: 0.246149\n",
      "Train Epoch: 1 [25600/60000 (43%)]\tLoss: 0.164154\n",
      "Train Epoch: 1 [32000/60000 (53%)]\tLoss: 0.033392\n",
      "Train Epoch: 1 [38400/60000 (64%)]\tLoss: 0.035615\n",
      "Train Epoch: 1 [44800/60000 (75%)]\tLoss: 0.080152\n",
      "Train Epoch: 1 [51200/60000 (85%)]\tLoss: 0.030989\n",
      "Train Epoch: 1 [57600/60000 (96%)]\tLoss: 0.084202\n",
      "\n",
      "Test set: Average loss: 0.0579, Accuracy: 9806/10000 (98%)\n",
      "\n",
      "Train Epoch: 2 [0/60000 (0%)]\tLoss: 0.048536\n",
      "Train Epoch: 2 [6400/60000 (11%)]\tLoss: 0.081484\n",
      "Train Epoch: 2 [12800/60000 (21%)]\tLoss: 0.063239\n",
      "Train Epoch: 2 [19200/60000 (32%)]\tLoss: 0.098003\n",
      "Train Epoch: 2 [25600/60000 (43%)]\tLoss: 0.051717\n",
      "Train Epoch: 2 [32000/60000 (53%)]\tLoss: 0.086115\n",
      "Train Epoch: 2 [38400/60000 (64%)]\tLoss: 0.029990\n",
      "Train Epoch: 2 [44800/60000 (75%)]\tLoss: 0.170445\n",
      "Train Epoch: 2 [51200/60000 (85%)]\tLoss: 0.057661\n",
      "Train Epoch: 2 [57600/60000 (96%)]\tLoss: 0.074196\n",
      "\n",
      "Test set: Average loss: 0.0365, Accuracy: 9884/10000 (99%)\n",
      "\n",
      "Train Epoch: 3 [0/60000 (0%)]\tLoss: 0.106093\n",
      "Train Epoch: 3 [6400/60000 (11%)]\tLoss: 0.021635\n",
      "Train Epoch: 3 [12800/60000 (21%)]\tLoss: 0.097062\n",
      "Train Epoch: 3 [19200/60000 (32%)]\tLoss: 0.008075\n",
      "Train Epoch: 3 [25600/60000 (43%)]\tLoss: 0.043743\n",
      "Train Epoch: 3 [32000/60000 (53%)]\tLoss: 0.109124\n",
      "Train Epoch: 3 [38400/60000 (64%)]\tLoss: 0.003479\n",
      "Train Epoch: 3 [44800/60000 (75%)]\tLoss: 0.010457\n",
      "Train Epoch: 3 [51200/60000 (85%)]\tLoss: 0.006826\n",
      "Train Epoch: 3 [57600/60000 (96%)]\tLoss: 0.125451\n",
      "\n",
      "Test set: Average loss: 0.0367, Accuracy: 9882/10000 (99%)\n",
      "\n"
     ]
    }
   ],
   "source": [
    "kwargs = {'batch_size': 64, 'num_workers': 1, 'pin_memory': True, 'shuffle': True}\n",
    "\n",
    "transform=transforms.Compose([\n",
    "        transforms.ToTensor(),\n",
    "        transforms.Normalize((0.1307,), (0.3081,))\n",
    "        ])\n",
    "\n",
    "dataset1 = datasets.MNIST('./kostya/data', train=True, download=True,\n",
    "                   transform=transform)\n",
    "dataset2 = datasets.MNIST('./kostya/data', train=False,\n",
    "                   transform=transform)\n",
    "train_loader = torch.utils.data.DataLoader(dataset1,**kwargs)\n",
    "test_loader = torch.utils.data.DataLoader(dataset2, **kwargs)\n",
    "\n",
    "model = Net().to(dev)\n",
    "optimizer = optim.Adadelta(model.parameters(), lr=1)\n",
    "\n",
    "scheduler = StepLR(optimizer, step_size=1, gamma=0.7)\n",
    "for epoch in range(1, 4):\n",
    "    train(model, dev, train_loader, optimizer, epoch)\n",
    "    test(model, dev, test_loader)\n",
    "    scheduler.step()\n",
    "\n",
    "torch.cuda.empty_cache()"
   ]
  }
 ],
 "metadata": {
  "kernelspec": {
   "display_name": "Python (RL)",
   "language": "python",
   "name": "rl"
  },
  "language_info": {
   "codemirror_mode": {
    "name": "ipython",
    "version": 3
   },
   "file_extension": ".py",
   "mimetype": "text/x-python",
   "name": "python",
   "nbconvert_exporter": "python",
   "pygments_lexer": "ipython3",
   "version": "3.7.8"
  }
 },
 "nbformat": 4,
 "nbformat_minor": 4
}
